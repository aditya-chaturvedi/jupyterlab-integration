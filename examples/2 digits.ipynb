{
 "cells": [
  {
   "cell_type": "markdown",
   "metadata": {},
   "source": [
    "## 1 Setup a local Tracking Server\n",
    "\n",
    "- Local tracking server\n",
    "\n",
    "    ```bash\n",
    "    cd /opt/mlflow-tracking-server/\n",
    "    mkdir -p backend\n",
    "    mkdir -p artifacts\n",
    "    mlflow server --backend-store-uri ./backend --default-artifact-root ./artifacts/  --host 0.0.0.0\n",
    "    ```\n",
    "\n",
    "\n",
    "- In the project folder (ensure that the local path to artifacts is the same as for the local tracking server)\n",
    "    \n",
    "    ```\n",
    "    ln -s /opt/mlflow-tracking-server/artifacts artifacts\n",
    "    ```"
   ]
  },
  {
   "cell_type": "markdown",
   "metadata": {},
   "source": [
    "## 2 Use a Databricks Connect enable environment"
   ]
  },
  {
   "cell_type": "code",
   "execution_count": 3,
   "metadata": {},
   "outputs": [
    {
     "name": "stdout",
     "output_type": "stream",
     "text": [
      "Spark context already exists\n"
     ]
    },
    {
     "data": {
      "text/html": [
       "\n",
       "        <style>\n",
       "        .db-bar {\n",
       "            height: 12px;\n",
       "        }\n",
       "\n",
       "        .db-label {\n",
       "            height: 14px;\n",
       "            line-height: 11px !important;\n",
       "            font-size: 11px;\n",
       "            color: #999 !important;\n",
       "        }\n",
       "        div.db-bar label {\n",
       "            font-size: 11px;\n",
       "            color: #999 !important;\n",
       "        }\n",
       "        .db-button {\n",
       "            width: 13px;\n",
       "            height: 12px;\n",
       "            padding: 0px;\n",
       "        }\n",
       "        .db-button .fa {\n",
       "            display: block;\n",
       "        }\n",
       "        </style>\n",
       "        "
      ],
      "text/plain": [
       "<IPython.core.display.HTML object>"
      ]
     },
     "metadata": {},
     "output_type": "display_data"
    },
    {
     "data": {
      "text/html": [
       "\n",
       "            <div>\n",
       "                <p><b>SparkSession - hive</b></p>\n",
       "                \n",
       "            <div>\n",
       "                <p><b>SparkContext</b></p>\n",
       "                <p><a href=\"https://demo.cloud.databricks.com#/setting/clusters/0717-082401-morn2/sparkUi\">Spark UI</a></p>\n",
       "                <dl>\n",
       "                  <dt>Version</dt><dd><code>v2.4.3</code></dd>\n",
       "                  <dt>AppName</dt><dd><code>Databricks Shell</code></dd>\n",
       "                </dl>\n",
       "            </div>\n",
       "            \n",
       "            </div>\n",
       "        "
      ],
      "text/plain": [
       "<pyspark.sql.session.SparkSession at 0x7f468afac978>"
      ]
     },
     "metadata": {},
     "output_type": "display_data"
    }
   ],
   "source": [
    "from databricks_jupyterlab.connect import dbcontext, is_remote\n",
    "\n",
    "if is_remote():        \n",
    "    display(dbcontext())    \n",
    "else:\n",
    "    spark = None"
   ]
  },
  {
   "cell_type": "markdown",
   "metadata": {},
   "source": [
    "## 3 Model development\n",
    "\n",
    "Start small local and then do the full parameter space search remotely"
   ]
  },
  {
   "cell_type": "code",
   "execution_count": 4,
   "metadata": {},
   "outputs": [
    {
     "name": "stdout",
     "output_type": "stream",
     "text": [
      "Remote crossvalidation, paramter grid size: 864\n",
      "\n"
     ]
    },
    {
     "data": {
      "application/vnd.jupyter.widget-view+json": {
       "model_id": "3d7175d6eb684a1ba666fd062219cab2",
       "version_major": 2,
       "version_minor": 0
      },
      "text/plain": [
       "HBox(children=(Button(icon='arrow-circle-right', style=ButtonStyle(), tooltip='Toggle progress bar', _dom_clas…"
      ]
     },
     "metadata": {},
     "output_type": "display_data"
    },
    {
     "name": "stdout",
     "output_type": "stream",
     "text": [
      "CPU times: user 1.52 s, sys: 296 ms, total: 1.82 s\n",
      "Wall time: 38.6 s\n"
     ]
    }
   ],
   "source": [
    "%%time\n",
    "import pandas as pd\n",
    "from sklearn.ensemble import RandomForestClassifier\n",
    "from sklearn import datasets\n",
    "from databricks_jupyterlab.gridsearchcv import GridSearchCV\n",
    "\n",
    "if is_remote():\n",
    "    data_path = \"/dbfs/data/digits/digits.csv\"\n",
    "    tracking_uri = None\n",
    "    experiment = \"/Shared/experiments/digits-spark-sklearn\"\n",
    "    param_grid = {\n",
    "        \"max_depth\": [3, None],\n",
    "        \"max_features\": [1, 3, 10],\n",
    "        \"min_samples_split\": [2, 5, 10],\n",
    "        \"min_samples_leaf\": [1, 3, 10],\n",
    "        \"bootstrap\": [True, False],\n",
    "        \"criterion\": [\"gini\", \"entropy\"],\n",
    "        \"n_estimators\": [10, 20, 40, 80]\n",
    "    }\n",
    "else:\n",
    "    data_path = \"~/Data/digits/digits.csv\"\n",
    "    tracking_uri = \"http://localhost:5000\"\n",
    "    experiment = \"digits-spark-sklearn\"\n",
    "    param_grid = {\n",
    "        \"max_depth\": [3, None],\n",
    "        \"max_features\": [1, 3],\n",
    "        \"min_samples_split\": [2, 10],\n",
    "        \"min_samples_leaf\": [1, 10],\n",
    "        \"n_estimators\": [10, 20, 40]\n",
    "    }\n",
    "\n",
    "df = pd.read_csv(data_path)\n",
    "X = df.loc[:, df.columns != 'target'].values\n",
    "y = df[\"target\"].values\n",
    "\n",
    "cv = GridSearchCV(RandomForestClassifier(), param_grid, cv=3, spark=spark)\n",
    "cv.fit(X,y)"
   ]
  },
  {
   "cell_type": "markdown",
   "metadata": {},
   "source": [
    "### Tracking"
   ]
  },
  {
   "cell_type": "code",
   "execution_count": null,
   "metadata": {},
   "outputs": [],
   "source": [
    "cv.log_cv(tracking_uri=tracking_uri, experiment=experiment, name=\"digits-01\")"
   ]
  },
  {
   "cell_type": "code",
   "execution_count": null,
   "metadata": {},
   "outputs": [],
   "source": []
  }
 ],
 "metadata": {
  "kernelspec": {
   "display_name": "SSH 0717-082401-morn2:2200 demo:bernhard-5.5ML",
   "language": "python",
   "name": "rik_ssh_0717_082401_morn2_2200_demobernhard55ml"
  },
  "language_info": {
   "codemirror_mode": {
    "name": "ipython",
    "version": 3
   },
   "file_extension": ".py",
   "mimetype": "text/x-python",
   "name": "python",
   "nbconvert_exporter": "python",
   "pygments_lexer": "ipython3",
   "version": "3.6.5"
  }
 },
 "nbformat": 4,
 "nbformat_minor": 4
}
