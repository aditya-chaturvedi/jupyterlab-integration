{
 "cells": [
  {
   "cell_type": "markdown",
   "metadata": {},
   "source": [
    "## 1 Setup a local Tracking Server\n",
    "\n",
    "- Local tracking server\n",
    "\n",
    "    ```bash\n",
    "    cd /opt/mlflow-tracking-server/\n",
    "    mkdir -p backend\n",
    "    mkdir -p artifacts\n",
    "    mlflow server --backend-store-uri ./backend --default-artifact-root ./artifacts/  --host 0.0.0.0\n",
    "    ```\n",
    "\n",
    "\n",
    "- In the project folder (ensure that the local path to artifacts is the same as for the local tracking server)\n",
    "    \n",
    "    ```\n",
    "    ln -s /opt/mlflow-tracking-server/artifacts artifacts\n",
    "    ```"
   ]
  },
  {
   "cell_type": "markdown",
   "metadata": {},
   "source": [
    "## 2 Use a Databricks Connect enable environment"
   ]
  },
  {
   "cell_type": "code",
   "execution_count": null,
   "metadata": {},
   "outputs": [],
   "source": [
    "from databrickslabs_jupyterlab.connect import dbcontext, is_remote\n",
    "\n",
    "if is_remote():\n",
    "    dbcontext()\n",
    "else:\n",
    "    spark = None"
   ]
  },
  {
   "cell_type": "markdown",
   "metadata": {},
   "source": [
    "## 3 Model development\n",
    "\n",
    "Start small local and then do the full parameter space search remotely"
   ]
  },
  {
   "cell_type": "code",
   "execution_count": null,
   "metadata": {},
   "outputs": [],
   "source": [
    "%%time\n",
    "import pandas as pd\n",
    "from sklearn.ensemble import RandomForestClassifier\n",
    "from sklearn import datasets\n",
    "from databrickslabs_jupyterlab.gridsearchcv import GridSearchCV\n",
    "\n",
    "if is_remote():\n",
    "    data_path = \"/dbfs/data/digits/digits.csv\"\n",
    "    tracking_uri = None\n",
    "    experiment = \"/Shared/experiments/digits-spark-sklearn\"\n",
    "    param_grid = {\n",
    "        \"max_depth\": [3, None],\n",
    "        \"max_features\": [1, 3, 10],\n",
    "        \"min_samples_split\": [2, 5, 10],\n",
    "        \"min_samples_leaf\": [1, 3, 10],\n",
    "        \"bootstrap\": [True, False],\n",
    "        \"criterion\": [\"gini\", \"entropy\"],\n",
    "        \"n_estimators\": [10, 20, 40, 80]\n",
    "    }\n",
    "else:\n",
    "    data_path = \"~/Data/digits/digits.csv\"\n",
    "    tracking_uri = \"http://localhost:5000\"\n",
    "    experiment = \"digits-spark-sklearn\"\n",
    "    param_grid = {\n",
    "        \"max_depth\": [3, None],\n",
    "        \"max_features\": [1, 3],\n",
    "        \"min_samples_split\": [2, 10],\n",
    "        \"min_samples_leaf\": [1, 10],\n",
    "        \"n_estimators\": [10, 20, 40]\n",
    "    }\n",
    "\n",
    "df = pd.read_csv(data_path)\n",
    "X = df.loc[:, df.columns != 'target'].values\n",
    "y = df[\"target\"].values\n",
    "\n",
    "cv = GridSearchCV(RandomForestClassifier(), param_grid, cv=3, spark=spark)\n",
    "cv.fit(X,y)"
   ]
  },
  {
   "cell_type": "markdown",
   "metadata": {},
   "source": [
    "### Tracking"
   ]
  },
  {
   "cell_type": "code",
   "execution_count": null,
   "metadata": {},
   "outputs": [],
   "source": [
    "cv.log_cv(tracking_uri=tracking_uri, experiment=experiment, name=\"digits-01\")"
   ]
  },
  {
   "cell_type": "code",
   "execution_count": null,
   "metadata": {},
   "outputs": [],
   "source": []
  }
 ],
 "metadata": {
  "kernelspec": {
   "display_name": "Python 3",
   "language": "python",
   "name": "python3"
  },
  "language_info": {
   "codemirror_mode": {
    "name": "ipython",
    "version": 3
   },
   "file_extension": ".py",
   "mimetype": "text/x-python",
   "name": "python",
   "nbconvert_exporter": "python",
   "pygments_lexer": "ipython3",
   "version": "3.6.9"
  }
 },
 "nbformat": 4,
 "nbformat_minor": 4
}
