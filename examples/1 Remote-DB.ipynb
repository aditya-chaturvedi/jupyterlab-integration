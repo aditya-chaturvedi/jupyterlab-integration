{
 "cells": [
  {
   "cell_type": "code",
   "execution_count": 1,
   "metadata": {},
   "outputs": [
    {
     "name": "stderr",
     "output_type": "stream",
     "text": [
      "Mon Jul 22 11:02:21 2019 py4j imported\n"
     ]
    },
    {
     "name": "stdout",
     "output_type": "stream",
     "text": [
      "Databricks Host: https://demo.cloud.databricks.com\n",
      "Cluster Id: 0717-082401-morn2\n"
     ]
    },
    {
     "name": "stdin",
     "output_type": "stream",
     "text": [
      "Enter personal access token ····································\n"
     ]
    },
    {
     "name": "stdout",
     "output_type": "stream",
     "text": [
      "Gateway created..\n",
      "Connected to gateway\n",
      "Python interpreter: /databricks/python/bin/python\n",
      "Set up Spark progress bar\n"
     ]
    },
    {
     "data": {
      "text/html": [
       "\n",
       "        <style>\n",
       "        .db-bar {\n",
       "            height: 12px;\n",
       "        }\n",
       "\n",
       "        .db-label {\n",
       "            height: 14px;\n",
       "            line-height: 11px !important;\n",
       "            font-size: 11px;\n",
       "            color: #999 !important;\n",
       "        }\n",
       "        div.db-bar label {\n",
       "            font-size: 11px;\n",
       "            color: #999 !important;\n",
       "        }\n",
       "        .db-button {\n",
       "            width: 13px;\n",
       "            height: 12px;\n",
       "            padding: 0px;\n",
       "        }\n",
       "        .db-button .fa {\n",
       "            display: block;\n",
       "        }\n",
       "        </style>\n",
       "        "
      ],
      "text/plain": [
       "<IPython.core.display.HTML object>"
      ]
     },
     "metadata": {},
     "output_type": "display_data"
    },
    {
     "name": "stdout",
     "output_type": "stream",
     "text": [
      "The following global variables have been created:\n",
      "- spark       Spark session\n",
      "- sc          Spark context\n",
      "- sqlContext  Hive Context\n",
      "- dbutils     Databricks utilities\n",
      "\n",
      "\n",
      "Open dbfs browser:     import databricks_jupyterlab as dj; dj.browse_dbfs(dbutils)\n",
      "Open database browser: import databricks_jupyterlab as dj; dj.browse_databases(spark)\n",
      "\n"
     ]
    },
    {
     "data": {
      "text/html": [
       "\n",
       "            <div>\n",
       "                <p><b>SparkSession - hive</b></p>\n",
       "                \n",
       "            <div>\n",
       "                <p><b>SparkContext</b></p>\n",
       "                <p><a href=\"https://demo.cloud.databricks.com#/setting/clusters/0717-082401-morn2/sparkUi\">Spark UI</a></p>\n",
       "                <dl>\n",
       "                  <dt>Version</dt><dd><code>v2.4.3</code></dd>\n",
       "                  <dt>AppName</dt><dd><code>Databricks Shell</code></dd>\n",
       "                </dl>\n",
       "            </div>\n",
       "            \n",
       "            </div>\n",
       "        "
      ],
      "text/plain": [
       "<pyspark.sql.session.SparkSession at 0x7fb11e0c66a0>"
      ]
     },
     "execution_count": 1,
     "metadata": {},
     "output_type": "execute_result"
    }
   ],
   "source": [
    "from databricks_jupyterlab.connect import dbcontext, is_remote\n",
    "dbcontext()"
   ]
  },
  {
   "cell_type": "code",
   "execution_count": 2,
   "metadata": {},
   "outputs": [
    {
     "name": "stdout",
     "output_type": "stream",
     "text": [
      "0717-082401-morn2-10-0-204-156 True\n"
     ]
    }
   ],
   "source": [
    "import socket\n",
    "print(socket.gethostname(), is_remote())"
   ]
  },
  {
   "cell_type": "code",
   "execution_count": 3,
   "metadata": {},
   "outputs": [],
   "source": [
    "import databricks_jupyterlab as dj; dj.browse_dbfs(dbutils)"
   ]
  },
  {
   "cell_type": "code",
   "execution_count": null,
   "metadata": {},
   "outputs": [],
   "source": [
    "import databricks_jupyterlab as dj; dj.browse_databases(spark)"
   ]
  },
  {
   "cell_type": "code",
   "execution_count": 4,
   "metadata": {},
   "outputs": [
    {
     "data": {
      "application/vnd.jupyter.widget-view+json": {
       "model_id": "4a3ba50324094a3eb9aa732e60c95c75",
       "version_major": 2,
       "version_minor": 0
      },
      "text/plain": [
       "HBox(children=(Button(icon='arrow-circle-right', style=ButtonStyle(), tooltip='Toggle progress bar', _dom_clas…"
      ]
     },
     "metadata": {},
     "output_type": "display_data"
    },
    {
     "name": "stdout",
     "output_type": "stream",
     "text": [
      "49999995000000 333333283333335000000\n"
     ]
    }
   ],
   "source": [
    "a = sc.range(10000000).repartition(100).map(lambda x: x).sum()\n",
    "b = sc.range(10000000).repartition(100).map(lambda x: x*x).sum()\n",
    "print(a,b)"
   ]
  },
  {
   "cell_type": "code",
   "execution_count": null,
   "metadata": {},
   "outputs": [],
   "source": [
    "dbutils.fs.ls(\"/data\")"
   ]
  },
  {
   "cell_type": "code",
   "execution_count": null,
   "metadata": {},
   "outputs": [],
   "source": [
    "df = spark.read.csv(\"/databricks-datasets/bikeSharing/data-001/hour.csv\", inferSchema=True, header=True)"
   ]
  },
  {
   "cell_type": "code",
   "execution_count": null,
   "metadata": {},
   "outputs": [],
   "source": [
    "df"
   ]
  },
  {
   "cell_type": "code",
   "execution_count": null,
   "metadata": {},
   "outputs": [],
   "source": [
    "df.createOrReplaceTempView(\"bikes\")"
   ]
  },
  {
   "cell_type": "code",
   "execution_count": null,
   "metadata": {},
   "outputs": [],
   "source": [
    "%%sql \n",
    "select * from bikes"
   ]
  },
  {
   "cell_type": "code",
   "execution_count": null,
   "metadata": {},
   "outputs": [],
   "source": []
  },
  {
   "cell_type": "code",
   "execution_count": null,
   "metadata": {},
   "outputs": [],
   "source": []
  },
  {
   "cell_type": "code",
   "execution_count": null,
   "metadata": {},
   "outputs": [],
   "source": []
  },
  {
   "cell_type": "code",
   "execution_count": null,
   "metadata": {},
   "outputs": [],
   "source": [
    "import os\n",
    "os.environ[\"PYSPARK_PYTHON\"] = \"/databricks/python/bin/python\""
   ]
  },
  {
   "cell_type": "code",
   "execution_count": null,
   "metadata": {},
   "outputs": [],
   "source": [
    "import ipywidgets as widgets\n",
    "widgets.Button(description=\"ok\")"
   ]
  },
  {
   "cell_type": "code",
   "execution_count": null,
   "metadata": {},
   "outputs": [],
   "source": []
  }
 ],
 "metadata": {
  "kernelspec": {
   "display_name": "SSH 0717-082401-morn2:2200 demo:bernhard-5.5ML",
   "language": "python",
   "name": "rik_ssh_0717_082401_morn2_2200_demobernhard55ml"
  },
  "language_info": {
   "codemirror_mode": {
    "name": "ipython",
    "version": 3
   },
   "file_extension": ".py",
   "mimetype": "text/x-python",
   "name": "python",
   "nbconvert_exporter": "python",
   "pygments_lexer": "ipython3",
   "version": "3.6.5"
  }
 },
 "nbformat": 4,
 "nbformat_minor": 4
}
